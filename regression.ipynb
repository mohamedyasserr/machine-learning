{
 "cells": [
  {
   "cell_type": "code",
   "execution_count": 1,
   "id": "cbf03d3b",
   "metadata": {},
   "outputs": [],
   "source": [
    "import pandas as pd\n",
    "import seaborn as sns\n",
    "import matplotlib.pyplot as plt\n",
    "import numpy as np\n",
    "%matplotlib inline\n",
    "from sklearn.preprocessing import StandardScaler, MinMaxScaler\n",
    "from sklearn import preprocessing\n",
    "from sklearn.metrics import confusion_matrix\n",
    "from sklearn.model_selection import cross_val_score\n",
    "from sklearn.model_selection import train_test_split\n"
   ]
  },
  {
   "cell_type": "code",
   "execution_count": 2,
   "id": "0a9b1ee4",
   "metadata": {},
   "outputs": [],
   "source": [
    "# CRIM - per capita crime rate by town\n",
    "# ZN - proportion of residential land zoned for lots over 25,000 sq.ft.\n",
    "# INDUS - proportion of non-retail business acres per town.\n",
    "# CHAS - Charles River dummy variable (1 if tract bounds river; 0 otherwise)\n",
    "# NOX - nitric oxides concentration (parts per 10 million)\n",
    "# RM - average number of rooms per dwelling\n",
    "# AGE - proportion of owner-occupied units built prior to 1940\n",
    "# DIS - weighted distances to five Boston employment centres\n",
    "# RAD - index of accessibility to radial highways\n",
    "# TAX - full-value property-tax rate per $10,000\n",
    "# PTRATIO - pupil-teacher ratio by town\n",
    "# B - 1000(Bk - 0.63)^2 where Bk is the proportion of blacks by town\n",
    "# LSTAT - % lower status of the population\n",
    "# MEDV - Median value of owner-occupied homes in $1000's"
   ]
  },
  {
   "cell_type": "code",
   "execution_count": 3,
   "id": "198c3737",
   "metadata": {},
   "outputs": [],
   "source": [
    "column_names = ['CRIM', 'ZN', 'INDUS', 'CHAS', 'NOX', 'RM', 'AGE', 'DIS', 'RAD', 'TAX', 'PTRATIO', 'B', 'LSTAT', 'MEDV']"
   ]
  },
  {
   "cell_type": "code",
   "execution_count": 4,
   "id": "c8ba62e4",
   "metadata": {},
   "outputs": [
    {
     "data": {
      "text/html": [
       "<div>\n",
       "<style scoped>\n",
       "    .dataframe tbody tr th:only-of-type {\n",
       "        vertical-align: middle;\n",
       "    }\n",
       "\n",
       "    .dataframe tbody tr th {\n",
       "        vertical-align: top;\n",
       "    }\n",
       "\n",
       "    .dataframe thead th {\n",
       "        text-align: right;\n",
       "    }\n",
       "</style>\n",
       "<table border=\"1\" class=\"dataframe\">\n",
       "  <thead>\n",
       "    <tr style=\"text-align: right;\">\n",
       "      <th></th>\n",
       "      <th>CRIM</th>\n",
       "      <th>ZN</th>\n",
       "      <th>INDUS</th>\n",
       "      <th>CHAS</th>\n",
       "      <th>NOX</th>\n",
       "      <th>RM</th>\n",
       "      <th>AGE</th>\n",
       "      <th>DIS</th>\n",
       "      <th>RAD</th>\n",
       "      <th>TAX</th>\n",
       "      <th>PTRATIO</th>\n",
       "      <th>B</th>\n",
       "      <th>LSTAT</th>\n",
       "      <th>MEDV</th>\n",
       "    </tr>\n",
       "  </thead>\n",
       "  <tbody>\n",
       "    <tr>\n",
       "      <th>0</th>\n",
       "      <td>0.00632</td>\n",
       "      <td>18.0</td>\n",
       "      <td>2.31</td>\n",
       "      <td>0</td>\n",
       "      <td>0.538</td>\n",
       "      <td>6.575</td>\n",
       "      <td>65.2</td>\n",
       "      <td>4.0900</td>\n",
       "      <td>1</td>\n",
       "      <td>296.0</td>\n",
       "      <td>15.3</td>\n",
       "      <td>396.90</td>\n",
       "      <td>4.98</td>\n",
       "      <td>24.0</td>\n",
       "    </tr>\n",
       "    <tr>\n",
       "      <th>1</th>\n",
       "      <td>0.02731</td>\n",
       "      <td>0.0</td>\n",
       "      <td>7.07</td>\n",
       "      <td>0</td>\n",
       "      <td>0.469</td>\n",
       "      <td>6.421</td>\n",
       "      <td>78.9</td>\n",
       "      <td>4.9671</td>\n",
       "      <td>2</td>\n",
       "      <td>242.0</td>\n",
       "      <td>17.8</td>\n",
       "      <td>396.90</td>\n",
       "      <td>9.14</td>\n",
       "      <td>21.6</td>\n",
       "    </tr>\n",
       "    <tr>\n",
       "      <th>2</th>\n",
       "      <td>0.02729</td>\n",
       "      <td>0.0</td>\n",
       "      <td>7.07</td>\n",
       "      <td>0</td>\n",
       "      <td>0.469</td>\n",
       "      <td>7.185</td>\n",
       "      <td>61.1</td>\n",
       "      <td>4.9671</td>\n",
       "      <td>2</td>\n",
       "      <td>242.0</td>\n",
       "      <td>17.8</td>\n",
       "      <td>392.83</td>\n",
       "      <td>4.03</td>\n",
       "      <td>34.7</td>\n",
       "    </tr>\n",
       "    <tr>\n",
       "      <th>3</th>\n",
       "      <td>0.03237</td>\n",
       "      <td>0.0</td>\n",
       "      <td>2.18</td>\n",
       "      <td>0</td>\n",
       "      <td>0.458</td>\n",
       "      <td>6.998</td>\n",
       "      <td>45.8</td>\n",
       "      <td>6.0622</td>\n",
       "      <td>3</td>\n",
       "      <td>222.0</td>\n",
       "      <td>18.7</td>\n",
       "      <td>394.63</td>\n",
       "      <td>2.94</td>\n",
       "      <td>33.4</td>\n",
       "    </tr>\n",
       "    <tr>\n",
       "      <th>4</th>\n",
       "      <td>0.06905</td>\n",
       "      <td>0.0</td>\n",
       "      <td>2.18</td>\n",
       "      <td>0</td>\n",
       "      <td>0.458</td>\n",
       "      <td>7.147</td>\n",
       "      <td>54.2</td>\n",
       "      <td>6.0622</td>\n",
       "      <td>3</td>\n",
       "      <td>222.0</td>\n",
       "      <td>18.7</td>\n",
       "      <td>396.90</td>\n",
       "      <td>5.33</td>\n",
       "      <td>36.2</td>\n",
       "    </tr>\n",
       "    <tr>\n",
       "      <th>...</th>\n",
       "      <td>...</td>\n",
       "      <td>...</td>\n",
       "      <td>...</td>\n",
       "      <td>...</td>\n",
       "      <td>...</td>\n",
       "      <td>...</td>\n",
       "      <td>...</td>\n",
       "      <td>...</td>\n",
       "      <td>...</td>\n",
       "      <td>...</td>\n",
       "      <td>...</td>\n",
       "      <td>...</td>\n",
       "      <td>...</td>\n",
       "      <td>...</td>\n",
       "    </tr>\n",
       "    <tr>\n",
       "      <th>501</th>\n",
       "      <td>0.06263</td>\n",
       "      <td>0.0</td>\n",
       "      <td>11.93</td>\n",
       "      <td>0</td>\n",
       "      <td>0.573</td>\n",
       "      <td>6.593</td>\n",
       "      <td>69.1</td>\n",
       "      <td>2.4786</td>\n",
       "      <td>1</td>\n",
       "      <td>273.0</td>\n",
       "      <td>21.0</td>\n",
       "      <td>391.99</td>\n",
       "      <td>9.67</td>\n",
       "      <td>22.4</td>\n",
       "    </tr>\n",
       "    <tr>\n",
       "      <th>502</th>\n",
       "      <td>0.04527</td>\n",
       "      <td>0.0</td>\n",
       "      <td>11.93</td>\n",
       "      <td>0</td>\n",
       "      <td>0.573</td>\n",
       "      <td>6.120</td>\n",
       "      <td>76.7</td>\n",
       "      <td>2.2875</td>\n",
       "      <td>1</td>\n",
       "      <td>273.0</td>\n",
       "      <td>21.0</td>\n",
       "      <td>396.90</td>\n",
       "      <td>9.08</td>\n",
       "      <td>20.6</td>\n",
       "    </tr>\n",
       "    <tr>\n",
       "      <th>503</th>\n",
       "      <td>0.06076</td>\n",
       "      <td>0.0</td>\n",
       "      <td>11.93</td>\n",
       "      <td>0</td>\n",
       "      <td>0.573</td>\n",
       "      <td>6.976</td>\n",
       "      <td>91.0</td>\n",
       "      <td>2.1675</td>\n",
       "      <td>1</td>\n",
       "      <td>273.0</td>\n",
       "      <td>21.0</td>\n",
       "      <td>396.90</td>\n",
       "      <td>5.64</td>\n",
       "      <td>23.9</td>\n",
       "    </tr>\n",
       "    <tr>\n",
       "      <th>504</th>\n",
       "      <td>0.10959</td>\n",
       "      <td>0.0</td>\n",
       "      <td>11.93</td>\n",
       "      <td>0</td>\n",
       "      <td>0.573</td>\n",
       "      <td>6.794</td>\n",
       "      <td>89.3</td>\n",
       "      <td>2.3889</td>\n",
       "      <td>1</td>\n",
       "      <td>273.0</td>\n",
       "      <td>21.0</td>\n",
       "      <td>393.45</td>\n",
       "      <td>6.48</td>\n",
       "      <td>22.0</td>\n",
       "    </tr>\n",
       "    <tr>\n",
       "      <th>505</th>\n",
       "      <td>0.04741</td>\n",
       "      <td>0.0</td>\n",
       "      <td>11.93</td>\n",
       "      <td>0</td>\n",
       "      <td>0.573</td>\n",
       "      <td>6.030</td>\n",
       "      <td>80.8</td>\n",
       "      <td>2.5050</td>\n",
       "      <td>1</td>\n",
       "      <td>273.0</td>\n",
       "      <td>21.0</td>\n",
       "      <td>396.90</td>\n",
       "      <td>7.88</td>\n",
       "      <td>11.9</td>\n",
       "    </tr>\n",
       "  </tbody>\n",
       "</table>\n",
       "<p>506 rows × 14 columns</p>\n",
       "</div>"
      ],
      "text/plain": [
       "        CRIM    ZN  INDUS  CHAS    NOX     RM   AGE     DIS  RAD    TAX  \\\n",
       "0    0.00632  18.0   2.31     0  0.538  6.575  65.2  4.0900    1  296.0   \n",
       "1    0.02731   0.0   7.07     0  0.469  6.421  78.9  4.9671    2  242.0   \n",
       "2    0.02729   0.0   7.07     0  0.469  7.185  61.1  4.9671    2  242.0   \n",
       "3    0.03237   0.0   2.18     0  0.458  6.998  45.8  6.0622    3  222.0   \n",
       "4    0.06905   0.0   2.18     0  0.458  7.147  54.2  6.0622    3  222.0   \n",
       "..       ...   ...    ...   ...    ...    ...   ...     ...  ...    ...   \n",
       "501  0.06263   0.0  11.93     0  0.573  6.593  69.1  2.4786    1  273.0   \n",
       "502  0.04527   0.0  11.93     0  0.573  6.120  76.7  2.2875    1  273.0   \n",
       "503  0.06076   0.0  11.93     0  0.573  6.976  91.0  2.1675    1  273.0   \n",
       "504  0.10959   0.0  11.93     0  0.573  6.794  89.3  2.3889    1  273.0   \n",
       "505  0.04741   0.0  11.93     0  0.573  6.030  80.8  2.5050    1  273.0   \n",
       "\n",
       "     PTRATIO       B  LSTAT  MEDV  \n",
       "0       15.3  396.90   4.98  24.0  \n",
       "1       17.8  396.90   9.14  21.6  \n",
       "2       17.8  392.83   4.03  34.7  \n",
       "3       18.7  394.63   2.94  33.4  \n",
       "4       18.7  396.90   5.33  36.2  \n",
       "..       ...     ...    ...   ...  \n",
       "501     21.0  391.99   9.67  22.4  \n",
       "502     21.0  396.90   9.08  20.6  \n",
       "503     21.0  396.90   5.64  23.9  \n",
       "504     21.0  393.45   6.48  22.0  \n",
       "505     21.0  396.90   7.88  11.9  \n",
       "\n",
       "[506 rows x 14 columns]"
      ]
     },
     "execution_count": 4,
     "metadata": {},
     "output_type": "execute_result"
    }
   ],
   "source": [
    "df = pd.read_csv('Housing.csv', header=None, delimiter=r\"\\s+\", names=column_names)\n",
    "df"
   ]
  },
  {
   "cell_type": "code",
   "execution_count": null,
   "id": "7e69885e",
   "metadata": {},
   "outputs": [],
   "source": [
    "\n"
   ]
  },
  {
   "cell_type": "code",
   "execution_count": 6,
   "id": "8ef65da4",
   "metadata": {},
   "outputs": [],
   "source": [
    "scaler = preprocessing.StandardScaler()"
   ]
  },
  {
   "cell_type": "code",
   "execution_count": 7,
   "id": "1d4682ea",
   "metadata": {},
   "outputs": [],
   "source": [
    "scaler.fit(df.drop('MEDV',axis=1))\n",
    "scaled_features = scaler.transform(df.drop('MEDV',axis=1))"
   ]
  },
  {
   "cell_type": "code",
   "execution_count": 8,
   "id": "77dba4e9",
   "metadata": {},
   "outputs": [
    {
     "data": {
      "text/html": [
       "<div>\n",
       "<style scoped>\n",
       "    .dataframe tbody tr th:only-of-type {\n",
       "        vertical-align: middle;\n",
       "    }\n",
       "\n",
       "    .dataframe tbody tr th {\n",
       "        vertical-align: top;\n",
       "    }\n",
       "\n",
       "    .dataframe thead th {\n",
       "        text-align: right;\n",
       "    }\n",
       "</style>\n",
       "<table border=\"1\" class=\"dataframe\">\n",
       "  <thead>\n",
       "    <tr style=\"text-align: right;\">\n",
       "      <th></th>\n",
       "      <th>CRIM</th>\n",
       "      <th>ZN</th>\n",
       "      <th>INDUS</th>\n",
       "      <th>CHAS</th>\n",
       "      <th>NOX</th>\n",
       "      <th>RM</th>\n",
       "      <th>AGE</th>\n",
       "      <th>DIS</th>\n",
       "      <th>RAD</th>\n",
       "      <th>TAX</th>\n",
       "      <th>PTRATIO</th>\n",
       "      <th>B</th>\n",
       "      <th>LSTAT</th>\n",
       "    </tr>\n",
       "  </thead>\n",
       "  <tbody>\n",
       "    <tr>\n",
       "      <th>0</th>\n",
       "      <td>-0.419782</td>\n",
       "      <td>0.284830</td>\n",
       "      <td>-1.287909</td>\n",
       "      <td>-0.272599</td>\n",
       "      <td>-0.144217</td>\n",
       "      <td>0.413672</td>\n",
       "      <td>-0.120013</td>\n",
       "      <td>0.140214</td>\n",
       "      <td>-0.982843</td>\n",
       "      <td>-0.666608</td>\n",
       "      <td>-1.459000</td>\n",
       "      <td>0.441052</td>\n",
       "      <td>-1.075562</td>\n",
       "    </tr>\n",
       "    <tr>\n",
       "      <th>1</th>\n",
       "      <td>-0.417339</td>\n",
       "      <td>-0.487722</td>\n",
       "      <td>-0.593381</td>\n",
       "      <td>-0.272599</td>\n",
       "      <td>-0.740262</td>\n",
       "      <td>0.194274</td>\n",
       "      <td>0.367166</td>\n",
       "      <td>0.557160</td>\n",
       "      <td>-0.867883</td>\n",
       "      <td>-0.987329</td>\n",
       "      <td>-0.303094</td>\n",
       "      <td>0.441052</td>\n",
       "      <td>-0.492439</td>\n",
       "    </tr>\n",
       "    <tr>\n",
       "      <th>2</th>\n",
       "      <td>-0.417342</td>\n",
       "      <td>-0.487722</td>\n",
       "      <td>-0.593381</td>\n",
       "      <td>-0.272599</td>\n",
       "      <td>-0.740262</td>\n",
       "      <td>1.282714</td>\n",
       "      <td>-0.265812</td>\n",
       "      <td>0.557160</td>\n",
       "      <td>-0.867883</td>\n",
       "      <td>-0.987329</td>\n",
       "      <td>-0.303094</td>\n",
       "      <td>0.396427</td>\n",
       "      <td>-1.208727</td>\n",
       "    </tr>\n",
       "    <tr>\n",
       "      <th>3</th>\n",
       "      <td>-0.416750</td>\n",
       "      <td>-0.487722</td>\n",
       "      <td>-1.306878</td>\n",
       "      <td>-0.272599</td>\n",
       "      <td>-0.835284</td>\n",
       "      <td>1.016303</td>\n",
       "      <td>-0.809889</td>\n",
       "      <td>1.077737</td>\n",
       "      <td>-0.752922</td>\n",
       "      <td>-1.106115</td>\n",
       "      <td>0.113032</td>\n",
       "      <td>0.416163</td>\n",
       "      <td>-1.361517</td>\n",
       "    </tr>\n",
       "    <tr>\n",
       "      <th>4</th>\n",
       "      <td>-0.412482</td>\n",
       "      <td>-0.487722</td>\n",
       "      <td>-1.306878</td>\n",
       "      <td>-0.272599</td>\n",
       "      <td>-0.835284</td>\n",
       "      <td>1.228577</td>\n",
       "      <td>-0.511180</td>\n",
       "      <td>1.077737</td>\n",
       "      <td>-0.752922</td>\n",
       "      <td>-1.106115</td>\n",
       "      <td>0.113032</td>\n",
       "      <td>0.441052</td>\n",
       "      <td>-1.026501</td>\n",
       "    </tr>\n",
       "  </tbody>\n",
       "</table>\n",
       "</div>"
      ],
      "text/plain": [
       "       CRIM        ZN     INDUS      CHAS       NOX        RM       AGE  \\\n",
       "0 -0.419782  0.284830 -1.287909 -0.272599 -0.144217  0.413672 -0.120013   \n",
       "1 -0.417339 -0.487722 -0.593381 -0.272599 -0.740262  0.194274  0.367166   \n",
       "2 -0.417342 -0.487722 -0.593381 -0.272599 -0.740262  1.282714 -0.265812   \n",
       "3 -0.416750 -0.487722 -1.306878 -0.272599 -0.835284  1.016303 -0.809889   \n",
       "4 -0.412482 -0.487722 -1.306878 -0.272599 -0.835284  1.228577 -0.511180   \n",
       "\n",
       "        DIS       RAD       TAX   PTRATIO         B     LSTAT  \n",
       "0  0.140214 -0.982843 -0.666608 -1.459000  0.441052 -1.075562  \n",
       "1  0.557160 -0.867883 -0.987329 -0.303094  0.441052 -0.492439  \n",
       "2  0.557160 -0.867883 -0.987329 -0.303094  0.396427 -1.208727  \n",
       "3  1.077737 -0.752922 -1.106115  0.113032  0.416163 -1.361517  \n",
       "4  1.077737 -0.752922 -1.106115  0.113032  0.441052 -1.026501  "
      ]
     },
     "execution_count": 8,
     "metadata": {},
     "output_type": "execute_result"
    }
   ],
   "source": [
    "X = pd.DataFrame(scaled_features,columns=df.columns[:-1])\n",
    "X.head()"
   ]
  },
  {
   "cell_type": "code",
   "execution_count": 9,
   "id": "a23b6f91",
   "metadata": {},
   "outputs": [
    {
     "data": {
      "text/plain": [
       "0      24.0\n",
       "1      21.6\n",
       "2      34.7\n",
       "3      33.4\n",
       "4      36.2\n",
       "       ... \n",
       "501    22.4\n",
       "502    20.6\n",
       "503    23.9\n",
       "504    22.0\n",
       "505    11.9\n",
       "Name: MEDV, Length: 506, dtype: float64"
      ]
     },
     "execution_count": 9,
     "metadata": {},
     "output_type": "execute_result"
    }
   ],
   "source": [
    "Y=df['MEDV']\n",
    "Y\n"
   ]
  },
  {
   "cell_type": "code",
   "execution_count": 10,
   "id": "9779f2bc",
   "metadata": {},
   "outputs": [],
   "source": [
    "##datasplt\n",
    "X_train, X_test, y_train, y_test = train_test_split(X,Y\n",
    "                                                    ,test_size=0.40,random_state=101)\n",
    "X_cv,X_test1,y_cv,y_test1=train_test_split(X_test,y_test\n",
    "                                                    ,test_size=0.50,random_state=101)\n"
   ]
  },
  {
   "cell_type": "code",
   "execution_count": 11,
   "id": "33725ad8",
   "metadata": {},
   "outputs": [
    {
     "data": {
      "text/plain": [
       "((303, 13), (303,))"
      ]
     },
     "execution_count": 11,
     "metadata": {},
     "output_type": "execute_result"
    }
   ],
   "source": [
    "X_train.shape,y_train.shape"
   ]
  },
  {
   "cell_type": "code",
   "execution_count": 12,
   "id": "9783917b",
   "metadata": {},
   "outputs": [
    {
     "data": {
      "text/plain": [
       "(         CRIM        ZN     INDUS      CHAS       NOX        RM       AGE  \\\n",
       " 325 -0.398190 -0.487722 -0.548149 -0.272599 -0.532942  0.208521 -1.915822   \n",
       " 179 -0.413791 -0.487722 -1.266023 -0.272599 -0.576134  0.990659 -0.361825   \n",
       " 53  -0.414721  0.413589 -0.802031 -0.272599 -0.999412 -0.408356 -1.677566   \n",
       " 374  1.732178 -0.487722  1.015999 -0.272599  0.978765 -3.058221  1.117494   \n",
       " 237 -0.360954 -0.487722 -0.720322 -0.272599 -0.412006  1.529180  0.107574   \n",
       " ..        ...       ...       ...       ...       ...       ...       ...   \n",
       " 90  -0.415066 -0.487722 -1.127409 -0.272599 -0.567496  0.188576 -0.088009   \n",
       " 198 -0.416132  2.945843 -1.403178 -0.272599 -1.301754  1.409508 -1.076593   \n",
       " 267 -0.353214  0.370669 -1.045700 -0.272599  0.175401  2.866934 -0.056004   \n",
       " 388  1.247542 -0.487722  1.015999 -0.272599  1.255192 -2.001125  1.117494   \n",
       " 89  -0.414347 -0.487722 -1.127409 -0.272599 -0.567496  1.131700 -0.194691   \n",
       " \n",
       "           DIS       RAD       TAX   PTRATIO         B     LSTAT  \n",
       " 325  0.770506 -0.523001 -0.720062  0.529158  0.405747 -1.061545  \n",
       " 179 -0.459227 -0.752922 -1.278354 -0.303094  0.441052 -1.067152  \n",
       " 53   1.435452 -0.637962 -0.981390 -0.765457  0.441052 -0.591963  \n",
       " 374 -1.263551  1.661245  1.530926  0.806576  0.441052  3.548771  \n",
       " 237  0.167785 -0.178120 -0.601276 -0.488039  0.366165 -1.110606  \n",
       " ..        ...       ...       ...       ...       ...       ...  \n",
       " 90  -0.334062 -0.867883 -0.821030 -0.303094  0.389300 -0.538697  \n",
       " 198  1.670427 -0.867883 -0.470612 -2.707379  0.389519 -0.845677  \n",
       " 267 -0.652892 -0.523001 -0.856665 -2.522434  0.305532 -0.730735  \n",
       " 388 -1.048447  1.661245  1.530926  0.806576  0.178127  2.518494  \n",
       " 89  -0.180898 -0.867883 -0.821030 -0.303094  0.431842 -0.974637  \n",
       " \n",
       " [102 rows x 13 columns],\n",
       " 325    24.6\n",
       " 179    37.2\n",
       " 53     23.4\n",
       " 374    13.8\n",
       " 237    31.5\n",
       "        ... \n",
       " 90     22.6\n",
       " 198    34.6\n",
       " 267    50.0\n",
       " 388    10.2\n",
       " 89     28.7\n",
       " Name: MEDV, Length: 102, dtype: float64)"
      ]
     },
     "execution_count": 12,
     "metadata": {},
     "output_type": "execute_result"
    }
   ],
   "source": [
    "X_test1,y_test1"
   ]
  },
  {
   "cell_type": "code",
   "execution_count": null,
   "id": "f9d186e0",
   "metadata": {},
   "outputs": [],
   "source": []
  },
  {
   "cell_type": "code",
   "execution_count": 13,
   "id": "884007e4",
   "metadata": {},
   "outputs": [
    {
     "data": {
      "text/plain": [
       "((101, 13), (101,))"
      ]
     },
     "execution_count": 13,
     "metadata": {},
     "output_type": "execute_result"
    }
   ],
   "source": [
    "X_cv.shape,y_cv.shape"
   ]
  },
  {
   "cell_type": "code",
   "execution_count": null,
   "id": "047b1ed5",
   "metadata": {},
   "outputs": [],
   "source": []
  },
  {
   "cell_type": "code",
   "execution_count": 14,
   "id": "8113db3b",
   "metadata": {},
   "outputs": [
    {
     "data": {
      "text/plain": [
       "[38.094716577231175,\n",
       " 24.661851113196644,\n",
       " 1312.0450605722328,\n",
       " 2982.492552620335,\n",
       " 26171.28642023532,\n",
       " 263131.9436225843,\n",
       " 2285354.630398105,\n",
       " 25724553.921122022,\n",
       " 113390924.70171341,\n",
       " 3671678107.190965]"
      ]
     },
     "execution_count": 14,
     "metadata": {},
     "output_type": "execute_result"
    }
   ],
   "source": [
    "from sklearn import linear_model\n",
    "from sklearn.metrics import mean_squared_error, r2_score\n",
    "from sklearn.preprocessing import PolynomialFeatures\n",
    "from sklearn import metrics\n",
    "from sklearn.linear_model import Ridge\n",
    "\n",
    "from sklearn.linear_model import Lasso\n",
    "listofdegrees =[1,2,3,4,5,6,7,8,9,10]\n",
    "\n",
    "listofMSE=[]\n",
    "for i in listofdegrees:\n",
    "    \n",
    "    poly_reg = PolynomialFeatures(degree=i)\n",
    "    X_poly_train = poly_reg.fit_transform(X_train)\n",
    "    pol_reg = linear_model.LinearRegression()\n",
    "    model=(pol_reg.fit(X_poly_train,y_train))\n",
    "    \n",
    "    x_poly_cv=poly_reg.fit_transform(X_cv)\n",
    "    Y_predict=model.predict(x_poly_cv)\n",
    "    listofMSE.append(mean_squared_error(y_cv, Y_predict))\n",
    "listofMSE    \n",
    "\n"
   ]
  },
  {
   "cell_type": "code",
   "execution_count": 15,
   "id": "656953f2",
   "metadata": {},
   "outputs": [
    {
     "data": {
      "text/plain": [
       "2"
      ]
     },
     "execution_count": 15,
     "metadata": {},
     "output_type": "execute_result"
    }
   ],
   "source": [
    "listofdegrees[np.argmin(listofMSE)]\n"
   ]
  },
  {
   "cell_type": "code",
   "execution_count": 16,
   "id": "01800b16",
   "metadata": {},
   "outputs": [],
   "source": [
    "poly_reg = PolynomialFeatures(degree=2)\n",
    "X_poly = poly_reg.fit_transform(X_train)\n",
    "X_test_pol=poly_reg.fit_transform(X_test1)\n",
    "pol_reg = linear_model.LinearRegression()\n",
    "pol_reg.fit(X_poly, y_train)\n",
    "y_predict= pol_reg.predict(X_poly)"
   ]
  },
  {
   "cell_type": "code",
   "execution_count": null,
   "id": "2e7bb37f",
   "metadata": {},
   "outputs": [],
   "source": []
  },
  {
   "cell_type": "code",
   "execution_count": 18,
   "id": "501c75cf",
   "metadata": {},
   "outputs": [
    {
     "data": {
      "text/plain": [
       "[21.434888613861386,\n",
       " 26.55233117427265,\n",
       " 26.12318575274393,\n",
       " 25.48031583915725,\n",
       " 24.623322363824556,\n",
       " 23.538053174130386,\n",
       " 22.149350799819917,\n",
       " 20.40889127759214,\n",
       " 18.57727708668136,\n",
       " 17.212799003055693,\n",
       " 16.722323098493504,\n",
       " 17.140640144441647]"
      ]
     },
     "execution_count": 18,
     "metadata": {},
     "output_type": "execute_result"
    }
   ],
   "source": [
    "lamda=[0,0.01,0.02,0.04,0.08,0.16,0.32,0.64,1.28,2.56,5.12,10.24]\n",
    "listoferror=[]\n",
    "for i in lamda:\n",
    "    ridge=Ridge(alpha=i)\n",
    "    poly_reg = PolynomialFeatures(degree=listofdegrees[np.argmin(listofMSE)])\n",
    "    X_poly_train_ridge = poly_reg.fit_transform(X_train)\n",
    "    model_ridge=ridge.fit(X_poly_train_ridge,y_train)\n",
    "    x_poly_cv_ridge=poly_reg.fit_transform(X_cv)\n",
    "    Y_predict_ridge=model_ridge.predict(x_poly_cv_ridge)\n",
    "    listoferror.append(mean_squared_error(y_cv, Y_predict_ridge))\n",
    "listoferror\n",
    "    \n",
    "    "
   ]
  },
  {
   "cell_type": "code",
   "execution_count": 19,
   "id": "42b73921",
   "metadata": {},
   "outputs": [
    {
     "data": {
      "text/plain": [
       "5.12"
      ]
     },
     "execution_count": 19,
     "metadata": {},
     "output_type": "execute_result"
    }
   ],
   "source": [
    "lamda[np.argmin(listoferror)]"
   ]
  },
  {
   "cell_type": "code",
   "execution_count": 20,
   "id": "5bdd7ec1",
   "metadata": {},
   "outputs": [],
   "source": [
    "poly_reg1_ridge= PolynomialFeatures(degree=listofdegrees[np.argmin(listofMSE)])\n",
    "\n",
    "ridge=Ridge(alpha=lamda[np.argmin(listoferror)])\n",
    "X_poly_train_ridge1 = poly_reg1_ridge.fit_transform(X_train)\n",
    "model_ridge1=ridge.fit(X_poly_train_ridge1,y_train)\n",
    "x_poly_test_ridge=poly_reg1_ridge.fit_transform(X_test1)\n",
    "Y_predict_test_ridge=model_ridge1.predict(x_poly_test_ridge)\n"
   ]
  },
  {
   "cell_type": "code",
   "execution_count": 21,
   "id": "6dac8450",
   "metadata": {},
   "outputs": [
    {
     "name": "stdout",
     "output_type": "stream",
     "text": [
      "Coefficients: [ 0.         -0.20100768  0.14868508  0.38153156  0.11252288 -1.23705826\n",
      "  3.08898693 -0.79153741 -2.04644685  0.81847158 -0.92338696 -0.85666216\n",
      "  0.58914939 -3.45073089  0.00983061  0.06054386 -0.09506699  0.58920137\n",
      " -0.37606799  0.79937412  0.38319704  0.13371779 -0.8003957   0.08949602\n",
      " -0.18587582 -0.16927251  0.79635482  0.00777645 -0.28183396 -0.03820995\n",
      "  0.14108601  0.41091374 -0.3116297  -0.27387839 -0.06749336  1.47466127\n",
      "  0.06518271  0.27495901 -0.31168729  0.42016444  0.3106763   1.47169076\n",
      "  0.35481934  0.61161896  1.16006287 -0.05047801  0.17806178 -0.11685856\n",
      " -0.12741047 -1.06815635  0.38210513 -0.62030657 -0.23184286 -0.17765781\n",
      "  0.58454608 -0.03386983  1.01012603 -0.22305101 -0.61583343 -0.02420253\n",
      " -0.65620174 -0.09560937 -0.49277829  0.74409631 -0.99612566  0.113098\n",
      " -0.67495796  0.01691987  0.50812707  0.35522942 -0.94147297 -0.01109206\n",
      " -0.72523361 -0.60758158 -1.0841803  -0.32628113 -0.35735329  0.10200759\n",
      " -0.22403338  1.50650852 -0.61273626  0.06738819 -1.20955863 -0.9961789\n",
      "  1.33070515 -0.54594719 -0.71698832 -0.0889659  -0.90684531  1.32611474\n",
      " -1.08726717  1.10387469  0.18982673 -0.05626578 -1.17996117  0.18963425\n",
      "  1.61355201 -0.53760363 -1.07426136 -0.22472063  0.04752658 -0.37514018\n",
      " -0.19521618  0.12771072  1.40395988]\n",
      "Intercept: 20.432282565407043\n",
      "Mean squared error (MSE): 9.07\n",
      "Coefficient of determination (R^2): 0.90\n"
     ]
    }
   ],
   "source": [
    "print('Coefficients:', model_ridge1.coef_)\n",
    "print('Intercept:', model_ridge1.intercept_)\n",
    "print('Mean squared error (MSE): %.2f'\n",
    "\n",
    "      % mean_squared_error(y_test1, Y_predict_test_ridge))\n",
    "print('Coefficient of determination (R^2): %.2f'\n",
    "      % r2_score(y_test1, Y_predict_test_ridge))"
   ]
  },
  {
   "cell_type": "code",
   "execution_count": 22,
   "id": "ce35d13f",
   "metadata": {},
   "outputs": [
    {
     "data": {
      "image/png": "[encoded data removed]",
      "text/plain": [
       "<Figure size 432x288 with 1 Axes>"
      ]
     },
     "metadata": {
      "needs_background": "light"
     },
     "output_type": "display_data"
    }
   ],
   "source": [
    "plt.scatter(y_test1, Y_predict_test_ridge)\n",
    "plt.xlabel(\"Prices\")\n",
    "plt.ylabel(\"Predicted prices\")\n",
    "plt.title(\"Prices vs Predicted prices\")\n",
    "plt.show()"
   ]
  },
  {
   "cell_type": "code",
   "execution_count": null,
   "id": "8b564a91",
   "metadata": {},
   "outputs": [],
   "source": []
  }
 ],
 "metadata": {
  "kernelspec": {
   "display_name": "Python 3 (ipykernel)",
   "language": "python",
   "name": "python3"
  },
  "language_info": {
   "codemirror_mode": {
    "name": "ipython",
    "version": 3
   },
   "file_extension": ".py",
   "mimetype": "text/x-python",
   "name": "python",
   "nbconvert_exporter": "python",
   "pygments_lexer": "ipython3",
   "version": "3.9.7"
  }
 },
 "nbformat": 4,
 "nbformat_minor": 5
}
